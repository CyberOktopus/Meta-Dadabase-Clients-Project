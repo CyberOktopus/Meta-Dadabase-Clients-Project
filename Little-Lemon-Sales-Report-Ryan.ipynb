{
 "cells": [
  {
   "cell_type": "code",
   "execution_count": 1,
   "id": "06653f08",
   "metadata": {},
   "outputs": [],
   "source": [
    "# Task1 Establish a connection pool\n",
    "from mysql.connector.pooling import MySQLConnectionPool\n",
    "from mysql.connector import Error"
   ]
  },
  {
   "cell_type": "code",
   "execution_count": 2,
   "id": "79375f3b",
   "metadata": {},
   "outputs": [],
   "source": [
    "dbconfig={\"database\":\"little_lemon_db\", \"user\":\"ryan\", \"password\":\"5555\"}"
   ]
  },
  {
   "cell_type": "code",
   "execution_count": 7,
   "id": "a9e80fe3",
   "metadata": {},
   "outputs": [
    {
     "name": "stdout",
     "output_type": "stream",
     "text": [
      "The connection pool is created with a name:  pool_a\n",
      "The pool size is: 2\n"
     ]
    }
   ],
   "source": [
    "try:\n",
    "    pool = MySQLConnectionPool(pool_name = \"pool_a\",\n",
    "                           pool_size = 2, \n",
    "                           **dbconfig)\n",
    "    print(\"The connection pool is created with a name: \",pool.pool_name)\n",
    "    print(\"The pool size is:\",pool.pool_size)\n",
    "except Error as er:\n",
    "    print(\"Error code:\", er.errno)\n",
    "    print(\"Error message:\", er.msg)"
   ]
  },
  {
   "cell_type": "code",
   "execution_count": 22,
   "id": "3a7f5ed2",
   "metadata": {},
   "outputs": [],
   "source": []
  },
  {
   "cell_type": "code",
   "execution_count": null,
   "id": "cbd2f169",
   "metadata": {},
   "outputs": [],
   "source": [
    "# Task2 Adding three new guests to bookings table"
   ]
  },
  {
   "cell_type": "code",
   "execution_count": 24,
   "id": "c07509a5",
   "metadata": {},
   "outputs": [
    {
     "name": "stdout",
     "output_type": "stream",
     "text": [
      "Guest1 is connected.\n",
      "\n",
      "Booking of Guest1 is finished.\n",
      "\n"
     ]
    }
   ],
   "source": [
    "\n",
    "try:\n",
    "        guest1_connected = pool.get_connection()\n",
    "        print(\"Guest1 is connected.\\n\")\n",
    "        cursor = guest1_connected.cursor()\n",
    "        insert_bookings=\"\"\"\n",
    "        INSERT INTO Bookings (BookingID, TableNo, GuestFirstName, GuestLastName, BookingSlot, EmployeeID)\n",
    "        VALUES\n",
    "        (7, 8, 'Anees','Java','18:00:00',6);\"\"\"\n",
    "        cursor.execute(insert_bookings)\n",
    "        guest1_connected.commit()\n",
    "        print(\"Booking of Guest1 is finished.\\n\")\n",
    "except:\n",
    "        print(\"No more connections are available.\")\n",
    "        print(\"Adding new connection in the pool.\")"
   ]
  },
  {
   "cell_type": "code",
   "execution_count": 29,
   "id": "8b976eaa",
   "metadata": {},
   "outputs": [
    {
     "name": "stdout",
     "output_type": "stream",
     "text": [
      "Guest2 is connected.\n",
      "\n",
      "Booking of Guest2 is finished.\n",
      "\n"
     ]
    }
   ],
   "source": [
    "try:\n",
    "        guest2_connected = pool.get_connection()\n",
    "        print(\"Guest2 is connected.\\n\")\n",
    "        cursor = guest2_connected.cursor()\n",
    "        insert_bookings=\"\"\"\n",
    "        INSERT INTO Bookings (BookingID, TableNo, GuestFirstName, GuestLastName, BookingSlot, EmployeeID)\n",
    "        VALUES\n",
    "        (8, 5, 'Bald','Vin','19:00:00',6);\"\"\"\n",
    "        cursor.execute(insert_bookings)\n",
    "        guest2_connected.commit()\n",
    "        print(\"Booking of Guest2 is finished.\\n\")\n",
    "except:\n",
    "        print(\"No more connections are available.\")\n",
    "        print(\"Adding new connection in the pool.\")"
   ]
  },
  {
   "cell_type": "code",
   "execution_count": 32,
   "id": "407dd1b0",
   "metadata": {},
   "outputs": [
    {
     "name": "stdout",
     "output_type": "stream",
     "text": [
      "No more connections are available.\n",
      "Adding new connection in the pool.\n",
      "A new connection is added in the pool.\n",
      "\n",
      "Guest3 is connected.\n",
      "\n",
      "Booking of Guest3 is finished.\n",
      "\n"
     ]
    }
   ],
   "source": [
    "try:\n",
    "        guest3_connected = pool.get_connection()\n",
    "        print(\"Guest3 is connected.\\n\")\n",
    "        cursor = guest3_connected.cursor()\n",
    "        insert_bookings=\"\"\"\n",
    "        INSERT INTO Bookings (BookingID, TableNo, GuestFirstName, GuestLastName, BookingSlot, EmployeeID)\n",
    "        VALUES\n",
    "        (9, 12, 'Jay','Con','19:30:00',6);\"\"\"\n",
    "        cursor.execute(insert_bookings)\n",
    "        guest3_connected.commit()\n",
    "        print(\"Booking of Guest3 is finished.\\n\")\n",
    "except:\n",
    "        print(\"No more connections are available.\")\n",
    "        print(\"Adding new connection in the pool.\")\n",
    "         # Create a connection\n",
    "        connection=connector.connect(user=\"ryan\",password=\"5555\")\n",
    "        # Add the connection into the pool\n",
    "        pool.add_connection(cnx=connection)\n",
    "        print(\"A new connection is added in the pool.\\n\")\n",
    "        \n",
    "        guest3_connected = pool.get_connection()\n",
    "        print(\"Guest3 is connected.\\n\")\n",
    "        cursor = guest3_connected.cursor()\n",
    "        insert_bookings=\"\"\"\n",
    "        INSERT INTO Bookings (BookingID, TableNo, GuestFirstName, GuestLastName, BookingSlot, EmployeeID)\n",
    "        VALUES\n",
    "        (9, 12, 'Jay','Con','19:30:00',6);\"\"\"\n",
    "        cursor.execute(insert_bookings)\n",
    "        guest3_connected.commit()\n",
    "        print(\"Booking of Guest3 is finished.\\n\")\n"
   ]
  },
  {
   "cell_type": "code",
   "execution_count": null,
   "id": "1e7d5666",
   "metadata": {},
   "outputs": [],
   "source": [
    "guest1_connected.close()\n",
    "guest2_connected.close()\n",
    "guest3_connected.close()"
   ]
  },
  {
   "cell_type": "code",
   "execution_count": 37,
   "id": "dbf9707d",
   "metadata": {},
   "outputs": [],
   "source": [
    "# Task3-1 The name and EmployeeID of the Little Lemon manager\n",
    "connection = connector.connect(user=\"ryan\",password=\"5555\")\n",
    "cursor = connection.cursor()\n",
    "cursor.execute(\"USE little_lemon_db\")"
   ]
  },
  {
   "cell_type": "code",
   "execution_count": 41,
   "id": "da3eebeb",
   "metadata": {},
   "outputs": [
    {
     "name": "stdout",
     "output_type": "stream",
     "text": [
      "('Manager_ID', 'Manager_Name')\n",
      "(1, 'Mario Gollini')\n"
     ]
    }
   ],
   "source": [
    "query_manager = \"\"\"\n",
    "SELECT EmployeeID AS Manager_ID,\n",
    "Name AS Manager_Name\n",
    "FROM employees\n",
    "WHERE Role = 'Manager';\n",
    "\"\"\"\n",
    "cursor.execute(query_manager)\n",
    "results = cursor.fetchall()\n",
    "columns = cursor.column_names\n",
    "print(columns)\n",
    "for result in results:\n",
    "    print(result)"
   ]
  },
  {
   "cell_type": "code",
   "execution_count": 46,
   "id": "f83605da",
   "metadata": {},
   "outputs": [
    {
     "name": "stdout",
     "output_type": "stream",
     "text": [
      "The Name and Role of the employee with the highest salary is:\n",
      "('Mario Gollini', 'Manager')\n"
     ]
    }
   ],
   "source": [
    "# Task3-2 employee with highest salary\n",
    "query_salary = \"\"\"\n",
    "SELECT \n",
    "Name AS Employee_Name,\n",
    "Role AS Employee_Role\n",
    "FROM employees\n",
    "ORDER BY Annual_Salary DESC LIMIT 1;\n",
    "\"\"\"\n",
    "cursor.execute(query_salary)\n",
    "results = cursor.fetchall()\n",
    "print(\"The Name and Role of the employee with the highest salary is:\")\n",
    "for result in results:\n",
    "    print(result)"
   ]
  },
  {
   "cell_type": "code",
   "execution_count": 49,
   "id": "aef1c01a",
   "metadata": {},
   "outputs": [
    {
     "name": "stdout",
     "output_type": "stream",
     "text": [
      "The number of guests booked between 18:00 and 20:00:\n",
      "(3,)\n"
     ]
    }
   ],
   "source": [
    "# Task3-3 number of guests booked between 18:00 and 20:00\n",
    "query_guest_arrival = \"\"\"\n",
    "SELECT \n",
    "COUNT(BookingID)\n",
    "FROM Bookings\n",
    "WHERE HOUR(BookingSlot) IN (18,20);\n",
    "\"\"\"\n",
    "cursor.execute(query_guest_arrival)\n",
    "results = cursor.fetchall()\n",
    "print(\"The number of guests booked between 18:00 and 20:00:\")\n",
    "for result in results:\n",
    "    print(result)"
   ]
  },
  {
   "cell_type": "code",
   "execution_count": 62,
   "id": "5b39e2a4",
   "metadata": {},
   "outputs": [
    {
     "name": "stdout",
     "output_type": "stream",
     "text": [
      "('Guest_Name', 'ID')\n",
      "('Anees Java', 7)\n",
      "('Bald Vin', 8)\n",
      "('Jay Con', 9)\n"
     ]
    }
   ],
   "source": [
    "# Task3-4 guests waiting to be seated\n",
    "query_guest_waiting = \"\"\"\n",
    "SELECT\n",
    "CONCAT(Bookings.GuestFirstName, ' ', Bookings.GuestLastName) AS Guest_Name,\n",
    "BookingID AS ID\n",
    "FROM Bookings\n",
    "WHERE EmployeeID = 6\n",
    "ORDER BY BookingSlot;\n",
    "\"\"\"\n",
    "cursor.execute(query_guest_waiting)\n",
    "results = cursor.fetchall()\n",
    "columns = cursor.column_names\n",
    "print(columns)\n",
    "for result in results:\n",
    "    print(result)"
   ]
  },
  {
   "cell_type": "code",
   "execution_count": 51,
   "id": "591d27e0",
   "metadata": {},
   "outputs": [],
   "source": [
    "# Task4 Create stored procedure: BasicSalesReport. \n",
    "cursor.execute(\"DROP PROCEDURE IF EXISTS BasicSalesReport;\")"
   ]
  },
  {
   "cell_type": "code",
   "execution_count": 52,
   "id": "97a73834",
   "metadata": {},
   "outputs": [],
   "source": [
    "stored_procedure_query=\"\"\"\n",
    "CREATE PROCEDURE BasicSalesReport()\n",
    "BEGIN\n",
    "\n",
    "SELECT \n",
    "SUM(BillAmount) AS Total_Sale,\n",
    "AVG(BillAmount) AS Average_Sale,\n",
    "MIN(BillAmount) AS Min_Bill_Paid,\n",
    "MAX(BillAmount) AS Max_Bill_Paid\n",
    "FROM Orders;\n",
    "\n",
    "END\n",
    "\"\"\""
   ]
  },
  {
   "cell_type": "code",
   "execution_count": 53,
   "id": "03031406",
   "metadata": {},
   "outputs": [],
   "source": [
    "cursor.execute(stored_procedure_query)"
   ]
  },
  {
   "cell_type": "code",
   "execution_count": 54,
   "id": "d7f702fe",
   "metadata": {},
   "outputs": [
    {
     "data": {
      "text/plain": [
       "()"
      ]
     },
     "execution_count": 54,
     "metadata": {},
     "output_type": "execute_result"
    }
   ],
   "source": [
    "cursor.callproc(\"BasicSalesReport\")"
   ]
  },
  {
   "cell_type": "code",
   "execution_count": 55,
   "id": "a0d0740c",
   "metadata": {},
   "outputs": [],
   "source": [
    "results = next(cursor.stored_results())\n",
    "results = results.fetchall()"
   ]
  },
  {
   "cell_type": "code",
   "execution_count": 56,
   "id": "6fe94564",
   "metadata": {},
   "outputs": [],
   "source": [
    "for column_id in cursor.stored_results():\n",
    "    cols = [column[0] for column in column_id.description]"
   ]
  },
  {
   "cell_type": "code",
   "execution_count": 60,
   "id": "bc9ae03d",
   "metadata": {},
   "outputs": [
    {
     "name": "stdout",
     "output_type": "stream",
     "text": [
      "Basic sales report:\n",
      "Total_Sale : 243\n",
      "Average_Sale : 48.6000\n",
      "Min_Bill_Paid : 37\n",
      "Max_Bill_Paid : 86\n"
     ]
    }
   ],
   "source": [
    "print(\"Basic sales report:\")\n",
    "for result in results:\n",
    "    print(cols[0],':',result[0])\n",
    "    print(cols[1],':',result[1])\n",
    "    print(cols[2],':',result[2])\n",
    "    print(cols[3],':',result[3])\n",
    " "
   ]
  },
  {
   "cell_type": "code",
   "execution_count": 61,
   "id": "04c7f0d5",
   "metadata": {},
   "outputs": [],
   "source": [
    "#Task5; \n",
    "connection = pool.get_connection()\n",
    "cursor=connection.cursor(buffered=True)"
   ]
  },
  {
   "cell_type": "code",
   "execution_count": 63,
   "id": "13a27ec0",
   "metadata": {},
   "outputs": [],
   "source": [
    "query_upcomig_booking=\"\"\"\n",
    "SELECT \n",
    "Bookings.BookingSlot,\n",
    "CONCAT(Bookings.GuestFirstName,\" \",Bookings.GuestLastName) AS Guest_Name,\n",
    "Employees.Name AS Employee_Name,\n",
    "Employees.Role AS Employee_Role\n",
    "FROM Bookings \n",
    "INNER JOIN \n",
    "Employees ON Bookings.EmployeeID=Employees.EmployeeID\n",
    "ORDER BY Bookings.BookingSlot ASC;\n",
    "\"\"\""
   ]
  },
  {
   "cell_type": "code",
   "execution_count": 64,
   "id": "23746513",
   "metadata": {},
   "outputs": [],
   "source": [
    "cursor.execute(query_upcomig_booking)\n",
    "results=cursor.fetchmany(size=3)"
   ]
  },
  {
   "cell_type": "code",
   "execution_count": 67,
   "id": "f06e2600",
   "metadata": {},
   "outputs": [
    {
     "name": "stdout",
     "output_type": "stream",
     "text": [
      "BookingSlot 15:00:00\n",
      "Guest_name: Vanessa McCarthy\n",
      "Assigned to: Giorgos Dioudis [Head Chef]\n",
      "BookingSlot 17:30:00\n",
      "Guest_name: Marcos Romero\n",
      "Assigned to: Fatma Kaya [Assistant Chef]\n",
      "BookingSlot 18:00:00\n",
      "Guest_name: Anees Java\n",
      "Assigned to: John Millar [Receptionist]\n"
     ]
    }
   ],
   "source": [
    "for result in results:\n",
    "    print(\"BookingSlot\",result[0])\n",
    "    print(\"Guest_name:\",result[1])\n",
    "    print(\"Assigned to:\",result[2],\"[{}]\".format(result[3]))\n"
   ]
  },
  {
   "cell_type": "code",
   "execution_count": null,
   "id": "f9e16bfa",
   "metadata": {},
   "outputs": [],
   "source": [
    "    \n",
    "connection.close()"
   ]
  }
 ],
 "metadata": {
  "kernelspec": {
   "display_name": "Python 3 (ipykernel)",
   "language": "python",
   "name": "python3"
  },
  "language_info": {
   "codemirror_mode": {
    "name": "ipython",
    "version": 3
   },
   "file_extension": ".py",
   "mimetype": "text/x-python",
   "name": "python",
   "nbconvert_exporter": "python",
   "pygments_lexer": "ipython3",
   "version": "3.11.1"
  }
 },
 "nbformat": 4,
 "nbformat_minor": 5
}
